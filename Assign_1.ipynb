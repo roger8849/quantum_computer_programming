{
  "nbformat": 4,
  "nbformat_minor": 0,
  "metadata": {
    "colab": {
      "name": "Assign 1.ipynb",
      "provenance": [],
      "collapsed_sections": [],
      "include_colab_link": true
    },
    "kernelspec": {
      "name": "python3",
      "display_name": "Python 3"
    }
  },
  "cells": [
    {
      "cell_type": "markdown",
      "metadata": {
        "id": "view-in-github",
        "colab_type": "text"
      },
      "source": [
        "<a href=\"https://colab.research.google.com/github/roger8849/quantum_computer_programming/blob/main/Assign_1.ipynb\" target=\"_parent\"><img src=\"https://colab.research.google.com/assets/colab-badge.svg\" alt=\"Open In Colab\"/></a>"
      ]
    },
    {
      "cell_type": "markdown",
      "metadata": {
        "id": "kF3Pj4MtCj_D"
      },
      "source": [
        "# Assignment 1\n",
        "## [Quantum Computer Programming 2021-2](https://fagonzalezo.github.io/qcp-2021-2/)\n",
        "\n",
        "## 1.\n",
        "Write a function that receives a function $f:\\mathbb{C}^2 \\rightarrow \\mathbb\n",
        "{C}^2$ which is a linear operator and finds a matrix representation of the linear operator assuming the canonical basis for the domain and a given orthonormal basis for the codomain."
      ]
    },
    {
      "cell_type": "code",
      "metadata": {
        "id": "tAlUsR13CXZC"
      },
      "source": [
        "import numpy as np\n",
        "\n",
        "def matrix_rep(f, basis_out):\n",
        "    '''\n",
        "    f: a linear function from C^2 to Cˆ2\n",
        "    basis_out: numpy array of shape (2, 2), where each columns represents a vector  \n",
        "           of an orthonormal basis of the codomain\n",
        "    Returns:\n",
        "     numpy array of shape (2,2) representing the linear operator\n",
        "    '''\n",
        "    result = np.zeros((2, 2), dtype=np.complex)\n",
        "    # Your code here\n",
        "    return result\n"
      ],
      "execution_count": null,
      "outputs": []
    },
    {
      "cell_type": "code",
      "metadata": {
        "id": "l8D4IssMrctO",
        "colab": {
          "base_uri": "https://localhost:8080/",
          "height": 51
        },
        "outputId": "d372a662-8b29-4428-8d82-de2f3ede0ccd"
      },
      "source": [
        "from scipy.stats import ortho_group\n",
        "\n",
        "def f1(x):\n",
        "    assert x.shape == (2,1)\n",
        "    return x    \n",
        "\n",
        "basis_out = ortho_group.rvs(2)\n",
        "mat = matrix_rep(f1, basis_out)\n",
        "print(mat)"
      ],
      "execution_count": null,
      "outputs": [
        {
          "output_type": "stream",
          "text": [
            "[[0.+0.j 0.+0.j]\n",
            " [0.+0.j 0.+0.j]]\n"
          ],
          "name": "stdout"
        }
      ]
    },
    {
      "cell_type": "markdown",
      "metadata": {
        "id": "NSGHxXzBUfOo"
      },
      "source": [
        "## 2. \n",
        "Write a function that receives a matrix and determines if it is diagonalizable or not."
      ]
    },
    {
      "cell_type": "code",
      "metadata": {
        "id": "nD-PZZIqUq-s"
      },
      "source": [
        "def diagonalizable(matrix):\n",
        "    '''\n",
        "     matrix: numpy array of shape (n,n)\n",
        "    Returns:\n",
        "     Boolean value indicating whether the matrix is diagonizable or not\n",
        "    '''\n",
        "    # Your code here\n",
        "    return True"
      ],
      "execution_count": null,
      "outputs": []
    },
    {
      "cell_type": "markdown",
      "metadata": {
        "id": "8czGDazQWbLk"
      },
      "source": [
        "## 3.\n",
        "Write a function that receives three vectors: $|a \\rangle, |b \\rangle, |c \\rangle \\in \\mathcal{C}^n$ calculates the result of the following expression: $(|ab\\rangle \\langle ca|)(|bc\\rangle +|ba\\rangle)$"
      ]
    },
    {
      "cell_type": "code",
      "metadata": {
        "id": "aWJncCGOVMoe"
      },
      "source": [
        "def expression(a, b , c):\n",
        "    '''\n",
        "     a: numpy array of shape (1, n)\n",
        "     b: numpy array of shape (1, n)\n",
        "     c: numpy array of shape (1, n)\n",
        "    Returns:\n",
        "     numpy array of shape (1, n ** 2)\n",
        "    '''\n",
        "    res = np.zeros((1, a.shape[1] ** 2))\n",
        "    # Your code here\n",
        "    return True"
      ],
      "execution_count": null,
      "outputs": []
    },
    {
      "cell_type": "markdown",
      "metadata": {
        "id": "43Nls0e5Km62"
      },
      "source": [
        "## 4.\n",
        "\n",
        "Write a function that receives the state of a qubit and returns the coordinates of its representation in the Bloch sphere."
      ]
    },
    {
      "cell_type": "code",
      "metadata": {
        "id": "JUwTMNlwQpmM"
      },
      "source": [
        "def bloch(v):\n",
        "    '''\n",
        "     v: a numpy array with shape (2, )\n",
        "    Returns:\n",
        "     a numpy array with shape (3, )\n",
        "    '''\n",
        "    # your code here\n",
        "    return np.array([0, 0, 0])\n"
      ],
      "execution_count": null,
      "outputs": []
    }
  ]
}